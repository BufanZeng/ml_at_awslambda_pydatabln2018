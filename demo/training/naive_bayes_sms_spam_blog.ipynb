{
 "cells": [
  {
   "cell_type": "code",
   "execution_count": 1,
   "metadata": {
    "ExecuteTime": {
     "end_time": "2018-03-21T13:10:59.644779Z",
     "start_time": "2018-03-21T13:10:59.339641Z"
    },
    "collapsed": true
   },
   "outputs": [],
   "source": [
    "import pandas as pd\n",
    "from sklearn.model_selection import train_test_split\n",
    "from sklearn.feature_extraction.text import TfidfVectorizer\n",
    "from sklearn.naive_bayes import GaussianNB\n",
    "from sklearn.metrics import accuracy_score\n",
    "from sklearn.externals import joblib"
   ]
  },
  {
   "cell_type": "code",
   "execution_count": 2,
   "metadata": {
    "ExecuteTime": {
     "end_time": "2018-03-21T13:10:59.657082Z",
     "start_time": "2018-03-21T13:10:59.645959Z"
    }
   },
   "outputs": [],
   "source": [
    "df = pd.read_csv('./data/spam.csv', encoding='latin-1')[[\"v1\", \"v2\"]]"
   ]
  },
  {
   "cell_type": "markdown",
   "metadata": {},
   "source": [
    "## Preprocessing\n",
    "\n",
    "\n",
    "1. Text > Vector (TF-IDF) => hier wird ein Modell draus"
   ]
  },
  {
   "cell_type": "code",
   "execution_count": 3,
   "metadata": {
    "ExecuteTime": {
     "end_time": "2018-03-21T13:10:59.854861Z",
     "start_time": "2018-03-21T13:10:59.657924Z"
    }
   },
   "outputs": [
    {
     "data": {
      "text/plain": [
       "['./models/tdidf_vectorizer.pkl']"
      ]
     },
     "execution_count": 3,
     "metadata": {},
     "output_type": "execute_result"
    }
   ],
   "source": [
    "# split data into test & training\n",
    "data_train, data_test, labels_train, labels_test = train_test_split(\n",
    "    df.v2,\n",
    "    df.v1, \n",
    "    test_size=0.1, \n",
    "    random_state=42)\n",
    "    \n",
    "vectorizer = TfidfVectorizer(sublinear_tf=True, max_df=0.5)\n",
    "\n",
    "# fir vectorizer\n",
    "vectorizer.fit(data_train)\n",
    "\n",
    "joblib.dump(vectorizer, './models/tfidf_vectorizer.pkl')"
   ]
  },
  {
   "cell_type": "markdown",
   "metadata": {},
   "source": [
    "## Model Training\n",
    "\n",
    "- use the vectorized data"
   ]
  },
  {
   "cell_type": "code",
   "execution_count": 4,
   "metadata": {
    "ExecuteTime": {
     "end_time": "2018-03-21T13:11:00.530564Z",
     "start_time": "2018-03-21T13:10:59.855996Z"
    }
   },
   "outputs": [
    {
     "data": {
      "text/plain": [
       "['./models/naive_bayes_clf.pkl']"
      ]
     },
     "execution_count": 4,
     "metadata": {},
     "output_type": "execute_result"
    }
   ],
   "source": [
    "# use vectorizer to transform input-text to vectors\n",
    "data_train_transformed = vectorizer.transform(data_train).toarray()\n",
    "\n",
    "# fir gaussian naive bayes classifier\n",
    "clf = GaussianNB()\n",
    "clf.fit(data_train_transformed, labels_train)\n",
    "    \n",
    "joblib.dump(clf, './models/naive_bayes_clf.pkl') "
   ]
  },
  {
   "cell_type": "code",
   "execution_count": 5,
   "metadata": {
    "ExecuteTime": {
     "end_time": "2018-03-21T13:11:00.616738Z",
     "start_time": "2018-03-21T13:11:00.531637Z"
    },
    "scrolled": true
   },
   "outputs": [
    {
     "name": "stdout",
     "output_type": "stream",
     "text": [
      "0.9032258064516129\n"
     ]
    }
   ],
   "source": [
    "data_test_transformed  = vectorizer.transform(data_test).toarray()  \n",
    "predictions = clf.predict(data_test_transformed)\n",
    "\n",
    "print (accuracy_score(labels_test, predictions))"
   ]
  },
  {
   "cell_type": "code",
   "execution_count": 6,
   "metadata": {
    "ExecuteTime": {
     "end_time": "2018-03-21T13:11:00.684160Z",
     "start_time": "2018-03-21T13:11:00.617859Z"
    }
   },
   "outputs": [
    {
     "data": {
      "text/plain": [
       "array(['spam'], dtype='<U4')"
      ]
     },
     "execution_count": 6,
     "metadata": {},
     "output_type": "execute_result"
    }
   ],
   "source": [
    "import numpy as np\n",
    "service_vectorizer = joblib.load('./models/tfidf_vectorizer.pkl')\n",
    "service_classifier = joblib.load('./models/naive_bayes_clf.pkl')    \n",
    "\n",
    "_texts = [\"you know it is urgent and free\"]\n",
    "\n",
    "vec = service_vectorizer.transform(np.array(_texts)).toarray()\n",
    "service_classifier.predict(vec)"
   ]
  },
  {
   "cell_type": "code",
   "execution_count": null,
   "metadata": {
    "collapsed": true
   },
   "outputs": [],
   "source": []
  }
 ],
 "metadata": {
  "kernelspec": {
   "display_name": "Python 3",
   "language": "python",
   "name": "python3"
  },
  "language_info": {
   "codemirror_mode": {
    "name": "ipython",
    "version": 3
   },
   "file_extension": ".py",
   "mimetype": "text/x-python",
   "name": "python",
   "nbconvert_exporter": "python",
   "pygments_lexer": "ipython3",
   "version": "3.6.3"
  },
  "toc": {
   "nav_menu": {},
   "number_sections": true,
   "sideBar": true,
   "skip_h1_title": false,
   "toc_cell": false,
   "toc_position": {},
   "toc_section_display": "block",
   "toc_window_display": false
  }
 },
 "nbformat": 4,
 "nbformat_minor": 2
}
